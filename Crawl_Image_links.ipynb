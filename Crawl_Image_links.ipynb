{
  "cells": [
    {
      "cell_type": "code",
      "execution_count": null,
      "metadata": {
        "id": "Sh-7W-Hu16yw"
      },
      "outputs": [],
      "source": [
        "!pip install selenium\n",
        "!apt-get update # to update ubuntu to correctly run apt install\n",
        "!apt install chromium-chromedriver\n",
        "!cp /usr/lib/chromium-browser/chromedriver /usr/bin"
      ]
    },
    {
      "cell_type": "code",
      "source": [],
      "metadata": {
        "id": "Wk677JXKDb8s"
      },
      "execution_count": null,
      "outputs": []
    },
    {
      "cell_type": "code",
      "execution_count": null,
      "metadata": {
        "id": "T5iQGxSQ2H-O"
      },
      "outputs": [],
      "source": [
        "import sys\n",
        "sys.path.insert(0,'/usr/lib/chromium-browser/chromedriver')\n",
        "from selenium import webdriver\n",
        "chrome_options = webdriver.ChromeOptions()\n",
        "chrome_options.add_argument('--headless')\n",
        "chrome_options.add_argument('--no-sandbox')\n",
        "chrome_options.add_argument('--disable-dev-shm-usage')"
      ]
    },
    {
      "cell_type": "code",
      "execution_count": null,
      "metadata": {
        "id": "qUyei2Fg2RgG"
      },
      "outputs": [],
      "source": [
        "from selenium import webdriver\n",
        "from selenium.webdriver.chrome.service import Service\n",
        "from selenium.webdriver.common.keys import Keys\n",
        "from selenium.webdriver.common.by import By\n",
        "from selenium.webdriver.support.ui import WebDriverWait\n",
        "from selenium.webdriver.support import expected_conditions as EC\n",
        "import re\n",
        "import requests\n",
        "import json\n",
        "import os\n",
        "import errno\n",
        "from multiprocessing import Pool\n",
        "import ssl\n",
        "import time\n",
        "import urllib\n",
        "from urllib.request import urlopen\n",
        "from tqdm import tqdm\n",
        "import shutil\n",
        "from pathlib import Path"
      ]
    },
    {
      "cell_type": "code",
      "execution_count": null,
      "metadata": {
        "id": "nImPqXx72Zpa"
      },
      "outputs": [],
      "source": [
        "dataset_path = '/content/drive/MyDrive/MedPix Dataset'"
      ]
    },
    {
      "cell_type": "code",
      "execution_count": null,
      "metadata": {
        "id": "GX9TDTP19BiI"
      },
      "outputs": [],
      "source": [
        "links_dict = {\n",
        "              'Mammo-XCC' : 'https://medpix.nlm.nih.gov/search?pln=%5B%22Mammo%20-%20XCC%22%5D&allen=true&allt=true&alli=true',\n",
        "              'AP': \"https://medpix.nlm.nih.gov/search?pln=%5B%22AP%22%5D&allen=true&allt=true&alli=true\",\n",
        "           'Axical' : \"https://medpix.nlm.nih.gov/search?pln=%5B%22Axial%22%5D&allen=true&allt=true&alli=true\",\n",
        "             'Coronal' : \"https://medpix.nlm.nih.gov/search?pln=%5B%22Coronal%22%5D&allen=true&allt=true&alli=true\",\n",
        "             'Decubitus' : 'https://medpix.nlm.nih.gov/search?pln=%5B%22Decubitus%22%5D&allen=true&allt=true&alli=true',\n",
        "             'Frontal' : 'https://medpix.nlm.nih.gov/search?pln=%5B%22Frontal%22%5D&allen=true&allt=true&alli=true',\n",
        "              'Histology' : 'https://medpix.nlm.nih.gov/search?pln=%5B%22Histology%22%5D&allen=true&allt=true&alli=true',\n",
        "              'Image Plane' : 'https://medpix.nlm.nih.gov/search?pln=%5B%22Image%20Plane%22%5D&allen=true&allt=true&alli=true',\n",
        "              'Lateral' : 'https://medpix.nlm.nih.gov/search?pln=%5B%22Lateral%22%5D&allen=true&allt=true&alli=true',\n",
        "             'Longitudinal' : 'https://medpix.nlm.nih.gov/search?pln=%5B%22Longitudinal%22%5D&allen=true&allt=true&alli=true',\n",
        "             'Mammo-CC' : 'https://medpix.nlm.nih.gov/search?pln=%5B%22Mammo%20-%20CC%22%5D&allen=true&allt=true&alli=true',\n",
        "             'Mammo-MagCC' : 'https://medpix.nlm.nih.gov/search?pln=%5B%22Mammo%20-%20Mag%20CC%22%5D&allen=true&allt=true&alli=true',\n",
        "             'Mammo-MLO' : 'https://medpix.nlm.nih.gov/search?pln=%5B%22Mammo%20-%20MLO%22%5D&allen=true&allt=true&alli=true',\n",
        "             'Multiple or Montage' : 'https://medpix.nlm.nih.gov/search?pln=%5B%22Multiple%20or%20Montage%22%5D&allen=true&allt=true&alli=true',\n",
        "             'NOS' : 'https://medpix.nlm.nih.gov/search?pln=%5B%22NOS%20-%20Not%20specified%22%5D&allen=true&allt=true&alli=true',\n",
        "             'Oblique' : 'https://medpix.nlm.nih.gov/search?pln=%5B%22Oblique%22%5D&allen=true&allt=true&alli=true',\n",
        "              'Other view' : 'https://medpix.nlm.nih.gov/search?pln=%5B%22Other%20View%20(see%20caption)%22%5D&allen=true&allt=true&alli=true',\n",
        "             'PA' : 'https://medpix.nlm.nih.gov/search?pln=%5B%22PA%22%5D&allen=true&allt=true&alli=true',\n",
        "               'Sagittal' : 'https://medpix.nlm.nih.gov/search?pln=%5B%22Sagittal%22%5D&allen=true&allt=true&alli=true',\n",
        "              'Transverse' : 'https://medpix.nlm.nih.gov/search?pln=%5B%22Transverse%22%5D&allen=true&allt=true&alli=true',\n",
        "              '3D Reconstruction' : 'https://medpix.nlm.nih.gov/search?pln=%5B%223D%20Reconstruction%22%5D&allen=true&allt=true&alli=true'\n",
        "}"
      ]
    },
    {
      "cell_type": "code",
      "source": [
        "links_dict = {\n",
        "            'Axical' : \"https://medpix.nlm.nih.gov/search?pln=%5B%22Axial%22%5D&allen=true&allt=true&alli=true\",\n",
        "            'AP': \"https://medpix.nlm.nih.gov/search?pln=%5B%22AP%22%5D&allen=true&allt=true&alli=true\",\n",
        "\n",
        "            'Coronal' : \"https://medpix.nlm.nih.gov/search?pln=%5B%22Coronal%22%5D&allen=true&allt=true&alli=true\",\n",
        "             'Frontal' : 'https://medpix.nlm.nih.gov/search?pln=%5B%22Frontal%22%5D&allen=true&allt=true&alli=true',\n",
        "             'Longitudinal' : 'https://medpix.nlm.nih.gov/search?pln=%5B%22Longitudinal%22%5D&allen=true&allt=true&alli=true',\n",
        "            'NOS' : 'https://medpix.nlm.nih.gov/search?pln=%5B%22NOS%20-%20Not%20specified%22%5D&allen=true&allt=true&alli=true',\n",
        "            'Sagittal' : 'https://medpix.nlm.nih.gov/search?pln=%5B%22Sagittal%22%5D&allen=true&allt=true&alli=true',\n",
        "}"
      ],
      "metadata": {
        "id": "tLHwzNxOruRQ"
      },
      "execution_count": null,
      "outputs": []
    },
    {
      "cell_type": "code",
      "execution_count": null,
      "metadata": {
        "id": "I-43z3XfYH3Z"
      },
      "outputs": [],
      "source": [
        "def save_to_txt_file(new_data, path):\n",
        "  myfile = Path(path +'/image_links.txt')\n",
        "  myfile.touch(exist_ok=True)\n",
        "  with open(f'{path}/image_links.txt', 'a', encoding='utf-8') as f:\n",
        "    f.write('\\n'.join(new_data))\n",
        "    f.write('\\n')"
      ]
    },
    {
      "cell_type": "code",
      "execution_count": null,
      "metadata": {
        "id": "LWgbqBSvYmD4"
      },
      "outputs": [],
      "source": [
        "def analysis_of_results(driver, past_results_count):\n",
        "    search_results = driver.find_element(by=By.ID, value='search-results-container').find_element(by=By.CLASS_NAME, value=\"search-result-list\")\n",
        "    results = [element for element in search_results.find_elements(by=By.CLASS_NAME, value='cow-container')]\n",
        "    results_count = len(results)\n",
        "    print(f'past: {past_results_count}, new: {results_count}')\n",
        "\n",
        "    return (True, results_count) if past_results_count != results_count else (False, past_results_count)"
      ]
    },
    {
      "cell_type": "code",
      "execution_count": null,
      "metadata": {
        "id": "B0P0Xc6rYV8J"
      },
      "outputs": [],
      "source": [
        "def new_crawl(driver, last_index, path):\n",
        "    data = []\n",
        "    wait = WebDriverWait(driver, 10)\n",
        "    search_results = driver.find_element(by=By.ID, value='search-results-container').find_element(by=By.CLASS_NAME, value=\"search-result-list\")\n",
        "    results = [element for element in search_results.find_elements(by=By.CLASS_NAME, value='cow-container')]\n",
        "    for idx in tqdm(range(last_index, len(results))):\n",
        "        result = results[idx]\n",
        "        result.click()\n",
        "        link =  wait.until(EC.visibility_of_element_located((By.LINK_TEXT, 'View')))\n",
        "\n",
        "        result_link = link.get_attribute('href')\n",
        "        data.append(result_link)\n",
        "\n",
        "    save_to_txt_file(data, path)"
      ]
    },
    {
      "cell_type": "code",
      "execution_count": null,
      "metadata": {
        "id": "DMW5wmnaWbnW"
      },
      "outputs": [],
      "source": [
        "for modality in links_dict:\n",
        "    link = links_dict[modality]\n",
        "    current_path = f\"{dataset_path}/{modality}\"\n",
        "    os.makedirs(current_path, exist_ok=True)\n",
        "\n",
        "    driver = webdriver.Chrome('chromedriver',options=chrome_options)\n",
        "    driver.get(link)\n",
        "    time.sleep(2)  # Allow 2 seconds for the web page to open\n",
        "\n",
        "    scroll_pause_time = 2 # You can set your own pause time.\n",
        "    screen_height = driver.execute_script(\"return window.screen.height;\")   # get the screen height of the web\n",
        "    i = 1\n",
        "    search_results = driver.find_element(by=By.ID, value='search-results-container').find_element(by=By.CLASS_NAME, value=\"search-result-list\")\n",
        "    results = [element for element in search_results.find_elements(by=By.CLASS_NAME, value='cow-container')]\n",
        "    results_count = len(results)\n",
        "    total_search = driver.find_element(by=By.CLASS_NAME, value='total-search-results')\n",
        "    search_count = int(total_search.text.split()[1])\n",
        "    new_crawl(driver, 0, current_path)\n",
        "\n",
        "    while True:\n",
        "        if results_count >= search_count :\n",
        "            break\n",
        "        # scroll one screen height each time\n",
        "        driver.execute_script(\"window.scrollTo(0, i * {screen_height});\".format(screen_height=screen_height, i=i))\n",
        "        i += 1\n",
        "        time.sleep(scroll_pause_time)\n",
        "        change , count = analysis_of_results(driver, results_count)\n",
        "        if change :\n",
        "            new_crawl(driver, results_count, current_path)\n",
        "            results_count = count\n",
        "\n",
        "        # update scroll height each time after scrolled, as the scroll height can change after we scrolled the page\n",
        "        scroll_height = driver.execute_script(\"return document.body.scrollHeight;\")\n",
        "        # Break the loop when the height we need to scroll to is larger than the total scroll height\n",
        "        if (screen_height) * i > scroll_height:\n",
        "            break"
      ]
    },
    {
      "cell_type": "code",
      "execution_count": null,
      "metadata": {
        "id": "JCuUCGuUtsH7"
      },
      "outputs": [],
      "source": [
        "def save_to_json_file(current_path,new_data):\n",
        "  myfile = Path(current_path +'/dataset.json')\n",
        "  myfile.touch(exist_ok=True)\n",
        "  with open(f'{current_path}/dataset.json', 'r', encoding='utf-8') as f:\n",
        "    try:\n",
        "        data = json.load(f)\n",
        "    except ValueError:\n",
        "         data = []\n",
        "  with open(f'{current_path}/dataset.json', 'w', encoding='utf-8') as f:\n",
        "    data = data + new_data\n",
        "    json.dump(data, f, ensure_ascii=False, indent=4)"
      ]
    },
    {
      "cell_type": "code",
      "source": [
        "import json\n",
        "current_path = f\"{dataset_path}/Coronal\"\n",
        "with open(f'{current_path}/image_links.txt', 'r', encoding='utf-8') as f:\n",
        "        links = f.readlines()\n",
        "        print(len(links))\n",
        "        links = list(set(links))\n",
        "        print(len(links))"
      ],
      "metadata": {
        "colab": {
          "base_uri": "https://localhost:8080/"
        },
        "id": "rcVzdYc-tLyi",
        "outputId": "0482cf81-b1e7-4c28-f403-e420040c819b"
      },
      "execution_count": null,
      "outputs": [
        {
          "output_type": "stream",
          "name": "stdout",
          "text": [
            "4249\n",
            "2824\n"
          ]
        }
      ]
    }
  ],
  "metadata": {
    "colab": {
      "provenance": []
    },
    "kernelspec": {
      "display_name": "Python 3",
      "name": "python3"
    },
    "language_info": {
      "name": "python"
    }
  },
  "nbformat": 4,
  "nbformat_minor": 0
}